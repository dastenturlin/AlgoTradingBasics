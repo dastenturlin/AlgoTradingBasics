{
 "cells": [
  {
   "cell_type": "markdown",
   "metadata": {},
   "source": [
    "## Pipeline example"
   ]
  },
  {
   "cell_type": "code",
   "execution_count": 1,
   "metadata": {},
   "outputs": [],
   "source": [
    "from quantopian.pipeline import Pipeline\n",
    "from quantopian.research import run_pipeline\n",
    "from quantopian.pipeline.data.builtin import USEquityPricing"
   ]
  },
  {
   "cell_type": "code",
   "execution_count": 4,
   "metadata": {},
   "outputs": [],
   "source": [
    "from quantopian.pipeline.filters import Q1500US #top N most traded stocks (updated monthly, only primary shares)"
   ]
  },
  {
   "cell_type": "code",
   "execution_count": 5,
   "metadata": {},
   "outputs": [],
   "source": [
    "universe = Q1500US()"
   ]
  },
  {
   "cell_type": "code",
   "execution_count": 6,
   "metadata": {},
   "outputs": [],
   "source": [
    "from quantopian.pipeline.data import morningstar"
   ]
  },
  {
   "cell_type": "code",
   "execution_count": 27,
   "metadata": {},
   "outputs": [],
   "source": [
    "# Classifiers = sort equities by category at a given time\n",
    "sector = morningstar.asset_classification.morningstar_sector_code.latest"
   ]
  },
  {
   "cell_type": "code",
   "execution_count": 9,
   "metadata": {},
   "outputs": [],
   "source": [
    "energy_sector = sector.eq(309)"
   ]
  },
  {
   "cell_type": "code",
   "execution_count": 11,
   "metadata": {},
   "outputs": [
    {
     "data": {
      "text/plain": [
       "<bound method ComputableTerm.alias of NumExprFilter(expr='x_0 == 309', bindings={'x_0': Latest([asset_classification<US>.morningstar_sector_code], 1)})>"
      ]
     },
     "execution_count": 11,
     "metadata": {},
     "output_type": "execute_result"
    }
   ],
   "source": [
    "energy_sector.alias"
   ]
  },
  {
   "cell_type": "code",
   "execution_count": 12,
   "metadata": {},
   "outputs": [],
   "source": [
    "# Masking - filters applied before actual calculation\n",
    "from quantopian.pipeline.factors import SimpleMovingAverage, AverageDollarVolume"
   ]
  },
  {
   "cell_type": "code",
   "execution_count": 13,
   "metadata": {},
   "outputs": [],
   "source": [
    "dollar_volume = AverageDollarVolume(window_length = 30)"
   ]
  },
  {
   "cell_type": "code",
   "execution_count": 20,
   "metadata": {},
   "outputs": [
    {
     "data": {
      "text/plain": [
       "NumExprFilter(expr='x_0 <= (5.0)', bindings={'x_0': Rank(AverageDollarVolume(...), method='ordinal')})"
      ]
     },
     "execution_count": 20,
     "metadata": {},
     "output_type": "execute_result"
    }
   ],
   "source": [
    "dollar_volume.top(5)"
   ]
  },
  {
   "cell_type": "code",
   "execution_count": 21,
   "metadata": {},
   "outputs": [],
   "source": [
    "high_dollar_volume = dollar_volume.percentile_between(90, 100)"
   ]
  },
  {
   "cell_type": "code",
   "execution_count": 22,
   "metadata": {},
   "outputs": [
    {
     "data": {
      "text/plain": [
       "PercentileFilter([AverageDollarVolume(...)], 0)"
      ]
     },
     "execution_count": 22,
     "metadata": {},
     "output_type": "execute_result"
    }
   ],
   "source": [
    "high_dollar_volume"
   ]
  },
  {
   "cell_type": "code",
   "execution_count": 24,
   "metadata": {},
   "outputs": [],
   "source": [
    "top_open_prices = USEquityPricing.open.latest.top(50, mask = high_dollar_volume)"
   ]
  },
  {
   "cell_type": "code",
   "execution_count": null,
   "metadata": {},
   "outputs": [],
   "source": []
  },
  {
   "cell_type": "code",
   "execution_count": null,
   "metadata": {},
   "outputs": [],
   "source": []
  },
  {
   "cell_type": "code",
   "execution_count": null,
   "metadata": {},
   "outputs": [],
   "source": []
  },
  {
   "cell_type": "code",
   "execution_count": null,
   "metadata": {},
   "outputs": [],
   "source": []
  },
  {
   "cell_type": "markdown",
   "metadata": {},
   "source": [
    "### Putting it all together in a single function"
   ]
  },
  {
   "cell_type": "code",
   "execution_count": 28,
   "metadata": {},
   "outputs": [],
   "source": [
    "def make_pipeline():\n",
    "    \n",
    "    # Universe Q1500US\n",
    "    base_universe = Q1500US()\n",
    "    \n",
    "    # Classifier: Energy Sector\n",
    "    energy_sector = sector.eq(309)\n",
    "    \n",
    "    # Masking: 1500Us, Energy\n",
    "    base_energy = base_universe & energy_sector\n",
    "    \n",
    "    # Dollar Volume info (30 days MA)\n",
    "    dollar_volume = AverageDollarVolume(window_length = 30)\n",
    "    \n",
    "    # Grab top 5% in avg dollar volume\n",
    "    high_dollar_volume = dollar_volume.percentile_between(95,100)\n",
    "    \n",
    "    # Combine the filters\n",
    "    top_five_base_energy = base_energy & high_dollar_volume\n",
    "    \n",
    "    # 10 days mean close\n",
    "    mean_10 = SimpleMovingAverage(inputs = [USEquityPricing.close], window_length = 10, mask = top_five_base_energy)\n",
    "    \n",
    "    # 30 days mean close\n",
    "    mean_30 = SimpleMovingAverage(inputs = [USEquityPricing.close], window_length = 30, mask = top_five_base_energy)\n",
    "    \n",
    "    \n",
    "    # Percent difference\n",
    "    percent_difference = (mean_10 - mean_30) / mean_30\n",
    "    \n",
    "    # List of Shorts\n",
    "    shorts = percent_difference < 0\n",
    "    \n",
    "    # List of Longs\n",
    "    longs = percent_difference > 0\n",
    "    \n",
    "    # Final mask/filter for anything in shorts/longs\n",
    "    securities_to_trade = (shorts | longs)\n",
    "    \n",
    "    # Return Pipeline\n",
    "    return Pipeline (columns = {\n",
    "        'longs': longs,\n",
    "        'shorts': shorts,\n",
    "        'perc_diff': percent_difference\n",
    "    }, screen = securities_to_trade)"
   ]
  },
  {
   "cell_type": "code",
   "execution_count": 29,
   "metadata": {},
   "outputs": [
    {
     "data": {
      "application/vnd.jupyter.widget-view+json": {
       "model_id": "",
       "version_major": 2,
       "version_minor": 0
      },
      "text/plain": []
     },
     "metadata": {},
     "output_type": "display_data"
    },
    {
     "data": {
      "text/html": [
       "<b>Pipeline Execution Time:</b> 19.67 Seconds"
      ],
      "text/plain": [
       "<IPython.core.display.HTML object>"
      ]
     },
     "metadata": {},
     "output_type": "display_data"
    },
    {
     "data": {
      "text/html": [
       "<div>\n",
       "<table border=\"1\" class=\"dataframe\">\n",
       "  <thead>\n",
       "    <tr style=\"text-align: right;\">\n",
       "      <th></th>\n",
       "      <th></th>\n",
       "      <th>longs</th>\n",
       "      <th>perc_diff</th>\n",
       "      <th>shorts</th>\n",
       "    </tr>\n",
       "  </thead>\n",
       "  <tbody>\n",
       "    <tr>\n",
       "      <th rowspan=\"38\" valign=\"top\">2015-05-05 00:00:00+00:00</th>\n",
       "      <th>Equity(216 [HES])</th>\n",
       "      <td>True</td>\n",
       "      <td>0.036528</td>\n",
       "      <td>False</td>\n",
       "    </tr>\n",
       "    <tr>\n",
       "      <th>Equity(448 [APA])</th>\n",
       "      <td>True</td>\n",
       "      <td>0.035926</td>\n",
       "      <td>False</td>\n",
       "    </tr>\n",
       "    <tr>\n",
       "      <th>Equity(455 [APC])</th>\n",
       "      <td>True</td>\n",
       "      <td>0.049153</td>\n",
       "      <td>False</td>\n",
       "    </tr>\n",
       "    <tr>\n",
       "      <th>Equity(858 [BHI])</th>\n",
       "      <td>True</td>\n",
       "      <td>0.033807</td>\n",
       "      <td>False</td>\n",
       "    </tr>\n",
       "    <tr>\n",
       "      <th>Equity(1746 [COG])</th>\n",
       "      <td>True</td>\n",
       "      <td>0.058078</td>\n",
       "      <td>False</td>\n",
       "    </tr>\n",
       "    <tr>\n",
       "      <th>Equity(2368 [DVN])</th>\n",
       "      <td>True</td>\n",
       "      <td>0.046264</td>\n",
       "      <td>False</td>\n",
       "    </tr>\n",
       "    <tr>\n",
       "      <th>Equity(2564 [EOG])</th>\n",
       "      <td>True</td>\n",
       "      <td>0.032102</td>\n",
       "      <td>False</td>\n",
       "    </tr>\n",
       "    <tr>\n",
       "      <th>Equity(2621 [VAL])</th>\n",
       "      <td>True</td>\n",
       "      <td>0.060197</td>\n",
       "      <td>False</td>\n",
       "    </tr>\n",
       "    <tr>\n",
       "      <th>Equity(3443 [HAL])</th>\n",
       "      <td>True</td>\n",
       "      <td>0.049257</td>\n",
       "      <td>False</td>\n",
       "    </tr>\n",
       "    <tr>\n",
       "      <th>Equity(3647 [HP])</th>\n",
       "      <td>True</td>\n",
       "      <td>0.040991</td>\n",
       "      <td>False</td>\n",
       "    </tr>\n",
       "    <tr>\n",
       "      <th>Equity(5035 [MRO])</th>\n",
       "      <td>True</td>\n",
       "      <td>0.061598</td>\n",
       "      <td>False</td>\n",
       "    </tr>\n",
       "    <tr>\n",
       "      <th>Equity(5213 [NBL])</th>\n",
       "      <td>True</td>\n",
       "      <td>0.010443</td>\n",
       "      <td>False</td>\n",
       "    </tr>\n",
       "    <tr>\n",
       "      <th>Equity(5214 [NBR])</th>\n",
       "      <td>True</td>\n",
       "      <td>0.064133</td>\n",
       "      <td>False</td>\n",
       "    </tr>\n",
       "    <tr>\n",
       "      <th>Equity(5249 [NE])</th>\n",
       "      <td>True</td>\n",
       "      <td>0.037559</td>\n",
       "      <td>False</td>\n",
       "    </tr>\n",
       "    <tr>\n",
       "      <th>Equity(5729 [OXY])</th>\n",
       "      <td>True</td>\n",
       "      <td>0.029776</td>\n",
       "      <td>False</td>\n",
       "    </tr>\n",
       "    <tr>\n",
       "      <th>Equity(6928 [SLB])</th>\n",
       "      <td>True</td>\n",
       "      <td>0.046555</td>\n",
       "      <td>False</td>\n",
       "    </tr>\n",
       "    <tr>\n",
       "      <th>Equity(7244 [SWN])</th>\n",
       "      <td>True</td>\n",
       "      <td>0.070788</td>\n",
       "      <td>False</td>\n",
       "    </tr>\n",
       "    <tr>\n",
       "      <th>Equity(7612 [ANDV])</th>\n",
       "      <td>True</td>\n",
       "      <td>0.005997</td>\n",
       "      <td>False</td>\n",
       "    </tr>\n",
       "    <tr>\n",
       "      <th>Equity(7990 [VLO])</th>\n",
       "      <td>False</td>\n",
       "      <td>-0.017145</td>\n",
       "      <td>True</td>\n",
       "    </tr>\n",
       "    <tr>\n",
       "      <th>Equity(8214 [WMB])</th>\n",
       "      <td>True</td>\n",
       "      <td>0.018876</td>\n",
       "      <td>False</td>\n",
       "    </tr>\n",
       "    <tr>\n",
       "      <th>Equity(8347 [XOM])</th>\n",
       "      <td>True</td>\n",
       "      <td>0.017343</td>\n",
       "      <td>False</td>\n",
       "    </tr>\n",
       "    <tr>\n",
       "      <th>Equity(8461 [CHK])</th>\n",
       "      <td>True</td>\n",
       "      <td>0.014265</td>\n",
       "      <td>False</td>\n",
       "    </tr>\n",
       "    <tr>\n",
       "      <th>Equity(9038 [RIG])</th>\n",
       "      <td>True</td>\n",
       "      <td>0.048180</td>\n",
       "      <td>False</td>\n",
       "    </tr>\n",
       "    <tr>\n",
       "      <th>Equity(13176 [CAM])</th>\n",
       "      <td>True</td>\n",
       "      <td>0.082110</td>\n",
       "      <td>False</td>\n",
       "    </tr>\n",
       "    <tr>\n",
       "      <th>Equity(17436 [PXD])</th>\n",
       "      <td>True</td>\n",
       "      <td>0.010248</td>\n",
       "      <td>False</td>\n",
       "    </tr>\n",
       "    <tr>\n",
       "      <th>Equity(19249 [RRC])</th>\n",
       "      <td>True</td>\n",
       "      <td>0.087062</td>\n",
       "      <td>False</td>\n",
       "    </tr>\n",
       "    <tr>\n",
       "      <th>Equity(19336 [WFT])</th>\n",
       "      <td>True</td>\n",
       "      <td>0.049141</td>\n",
       "      <td>False</td>\n",
       "    </tr>\n",
       "    <tr>\n",
       "      <th>Equity(22784 [FTI])</th>\n",
       "      <td>True</td>\n",
       "      <td>0.054529</td>\n",
       "      <td>False</td>\n",
       "    </tr>\n",
       "    <tr>\n",
       "      <th>Equity(23112 [CVX])</th>\n",
       "      <td>True</td>\n",
       "      <td>0.018972</td>\n",
       "      <td>False</td>\n",
       "    </tr>\n",
       "    <tr>\n",
       "      <th>Equity(23998 [COP])</th>\n",
       "      <td>True</td>\n",
       "      <td>0.023902</td>\n",
       "      <td>False</td>\n",
       "    </tr>\n",
       "    <tr>\n",
       "      <th>Equity(24809 [NOV])</th>\n",
       "      <td>True</td>\n",
       "      <td>0.024940</td>\n",
       "      <td>False</td>\n",
       "    </tr>\n",
       "    <tr>\n",
       "      <th>Equity(25707 [WLL])</th>\n",
       "      <td>True</td>\n",
       "      <td>0.048205</td>\n",
       "      <td>False</td>\n",
       "    </tr>\n",
       "    <tr>\n",
       "      <th>Equity(33856 [CLR])</th>\n",
       "      <td>True</td>\n",
       "      <td>0.064304</td>\n",
       "      <td>False</td>\n",
       "    </tr>\n",
       "    <tr>\n",
       "      <th>Equity(34440 [CXO])</th>\n",
       "      <td>True</td>\n",
       "      <td>0.042184</td>\n",
       "      <td>False</td>\n",
       "    </tr>\n",
       "    <tr>\n",
       "      <th>Equity(39797 [OAS])</th>\n",
       "      <td>True</td>\n",
       "      <td>0.042388</td>\n",
       "      <td>False</td>\n",
       "    </tr>\n",
       "    <tr>\n",
       "      <th>Equity(40852 [KMI])</th>\n",
       "      <td>True</td>\n",
       "      <td>0.023016</td>\n",
       "      <td>False</td>\n",
       "    </tr>\n",
       "    <tr>\n",
       "      <th>Equity(41636 [MPC])</th>\n",
       "      <td>True</td>\n",
       "      <td>0.011952</td>\n",
       "      <td>False</td>\n",
       "    </tr>\n",
       "    <tr>\n",
       "      <th>Equity(42788 [PSX])</th>\n",
       "      <td>True</td>\n",
       "      <td>0.020911</td>\n",
       "      <td>False</td>\n",
       "    </tr>\n",
       "  </tbody>\n",
       "</table>\n",
       "</div>"
      ],
      "text/plain": [
       "                                               longs  perc_diff shorts\n",
       "2015-05-05 00:00:00+00:00 Equity(216 [HES])     True   0.036528  False\n",
       "                          Equity(448 [APA])     True   0.035926  False\n",
       "                          Equity(455 [APC])     True   0.049153  False\n",
       "                          Equity(858 [BHI])     True   0.033807  False\n",
       "                          Equity(1746 [COG])    True   0.058078  False\n",
       "                          Equity(2368 [DVN])    True   0.046264  False\n",
       "                          Equity(2564 [EOG])    True   0.032102  False\n",
       "                          Equity(2621 [VAL])    True   0.060197  False\n",
       "                          Equity(3443 [HAL])    True   0.049257  False\n",
       "                          Equity(3647 [HP])     True   0.040991  False\n",
       "                          Equity(5035 [MRO])    True   0.061598  False\n",
       "                          Equity(5213 [NBL])    True   0.010443  False\n",
       "                          Equity(5214 [NBR])    True   0.064133  False\n",
       "                          Equity(5249 [NE])     True   0.037559  False\n",
       "                          Equity(5729 [OXY])    True   0.029776  False\n",
       "                          Equity(6928 [SLB])    True   0.046555  False\n",
       "                          Equity(7244 [SWN])    True   0.070788  False\n",
       "                          Equity(7612 [ANDV])   True   0.005997  False\n",
       "                          Equity(7990 [VLO])   False  -0.017145   True\n",
       "                          Equity(8214 [WMB])    True   0.018876  False\n",
       "                          Equity(8347 [XOM])    True   0.017343  False\n",
       "                          Equity(8461 [CHK])    True   0.014265  False\n",
       "                          Equity(9038 [RIG])    True   0.048180  False\n",
       "                          Equity(13176 [CAM])   True   0.082110  False\n",
       "                          Equity(17436 [PXD])   True   0.010248  False\n",
       "                          Equity(19249 [RRC])   True   0.087062  False\n",
       "                          Equity(19336 [WFT])   True   0.049141  False\n",
       "                          Equity(22784 [FTI])   True   0.054529  False\n",
       "                          Equity(23112 [CVX])   True   0.018972  False\n",
       "                          Equity(23998 [COP])   True   0.023902  False\n",
       "                          Equity(24809 [NOV])   True   0.024940  False\n",
       "                          Equity(25707 [WLL])   True   0.048205  False\n",
       "                          Equity(33856 [CLR])   True   0.064304  False\n",
       "                          Equity(34440 [CXO])   True   0.042184  False\n",
       "                          Equity(39797 [OAS])   True   0.042388  False\n",
       "                          Equity(40852 [KMI])   True   0.023016  False\n",
       "                          Equity(41636 [MPC])   True   0.011952  False\n",
       "                          Equity(42788 [PSX])   True   0.020911  False"
      ]
     },
     "execution_count": 29,
     "metadata": {},
     "output_type": "execute_result"
    }
   ],
   "source": [
    "result = run_pipeline(make_pipeline(), '2015-05-05', '2015-05-05')\n",
    "result"
   ]
  },
  {
   "cell_type": "code",
   "execution_count": 30,
   "metadata": {},
   "outputs": [
    {
     "name": "stdout",
     "output_type": "stream",
     "text": [
      "<class 'pandas.core.frame.DataFrame'>\n",
      "MultiIndex: 38 entries, (2015-05-05 00:00:00+00:00, Equity(216 [HES])) to (2015-05-05 00:00:00+00:00, Equity(42788 [PSX]))\n",
      "Data columns (total 3 columns):\n",
      "longs        38 non-null bool\n",
      "perc_diff    38 non-null float64\n",
      "shorts       38 non-null bool\n",
      "dtypes: bool(2), float64(1)\n",
      "memory usage: 684.0+ bytes\n"
     ]
    }
   ],
   "source": [
    "result.info()"
   ]
  },
  {
   "cell_type": "code",
   "execution_count": null,
   "metadata": {},
   "outputs": [],
   "source": []
  },
  {
   "cell_type": "code",
   "execution_count": null,
   "metadata": {},
   "outputs": [],
   "source": []
  }
 ],
 "metadata": {
  "kernelspec": {
   "display_name": "Python 3.5",
   "language": "python",
   "name": "py35"
  },
  "language_info": {
   "codemirror_mode": {
    "name": "ipython",
    "version": 3
   },
   "file_extension": ".py",
   "mimetype": "text/x-python",
   "name": "python",
   "nbconvert_exporter": "python",
   "pygments_lexer": "ipython3",
   "version": "3.5.9"
  }
 },
 "nbformat": 4,
 "nbformat_minor": 2
}
